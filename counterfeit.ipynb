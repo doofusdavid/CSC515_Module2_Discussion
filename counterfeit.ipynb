{
 "cells": [
  {
   "cell_type": "code",
   "execution_count": 15,
   "metadata": {},
   "outputs": [],
   "source": [
    "import numpy as np\n",
    "import cv2\n",
    "import urllib.request\n",
    "from scipy.spatial import distance"
   ]
  },
  {
   "cell_type": "code",
   "execution_count": 16,
   "metadata": {},
   "outputs": [
    {
     "data": {
      "text/plain": [
       "(83, 125, 3)"
      ]
     },
     "execution_count": 16,
     "metadata": {},
     "output_type": "execute_result"
    }
   ],
   "source": [
    "# Donwload an image from the web\n",
    "url = \"https://frostlor-cdn-prod.courses.csuglobal.edu/lor/resources/src/272137f2-3816-3779-a73f-71882da43fa1/shutterstock227361781--125.jpg\"\n",
    "urllib.request.urlretrieve(url, \"counterfeit.jpg\")\n",
    "\n",
    "img = cv2.imread('counterfeit.jpg')\n",
    "img.shape\n"
   ]
  },
  {
   "cell_type": "code",
   "execution_count": 17,
   "metadata": {},
   "outputs": [
    {
     "data": {
      "text/plain": [
       "31125"
      ]
     },
     "execution_count": 17,
     "metadata": {},
     "output_type": "execute_result"
    }
   ],
   "source": [
    "img.size"
   ]
  },
  {
   "cell_type": "code",
   "execution_count": 18,
   "metadata": {},
   "outputs": [],
   "source": [
    "height, width, channels = img.shape\n"
   ]
  },
  {
   "cell_type": "code",
   "execution_count": 19,
   "metadata": {},
   "outputs": [
    {
     "data": {
      "text/plain": [
       "(332, 500, 3)"
      ]
     },
     "execution_count": 19,
     "metadata": {},
     "output_type": "execute_result"
    }
   ],
   "source": [
    "# Make it easier for my eyes to read\n",
    "bigger_img = cv2.resize(img, (width*4, height*4))\n",
    "cv2.imwrite('counterfeit_bigger.jpg', bigger_img)\n",
    "bigger_img.shape"
   ]
  },
  {
   "cell_type": "markdown",
   "metadata": {},
   "source": [
    "![Bigger Image](counterfeit_bigger.jpg)"
   ]
  },
  {
   "cell_type": "markdown",
   "metadata": {},
   "source": [
    "### Using an online tool, pick some corners to deskew\n",
    "![Choose points](Pick_points.png)"
   ]
  },
  {
   "cell_type": "code",
   "execution_count": 20,
   "metadata": {},
   "outputs": [
    {
     "data": {
      "text/plain": [
       "(177, 339)"
      ]
     },
     "execution_count": 20,
     "metadata": {},
     "output_type": "execute_result"
    }
   ],
   "source": [
    "# Let's deskew\n",
    "a = [251.0,36.0]\n",
    "b = [427.0,12.0]\n",
    "c = [309.0,330.0]\n",
    "d = [475.0,306.0]\n",
    "\n",
    "# # I put them in the wrong order, so reverse them\n",
    "# a.reverse()\n",
    "# b.reverse()\n",
    "# c.reverse()\n",
    "# d.reverse()\n",
    "\n",
    "pts_src = np.array([a,b,c,d])\n",
    "\n",
    "# Create a new black image with the dimensions of the bounded points\n",
    "new_width = int(distance.euclidean(a,b))\n",
    "new_height = int(distance.euclidean(b,c))\n",
    "\n",
    "pts_dst = np.array([[0,0],[new_width,0],[0,new_height],[new_width,new_height]])\n",
    "new_width, new_height"
   ]
  },
  {
   "cell_type": "code",
   "execution_count": 21,
   "metadata": {},
   "outputs": [
    {
     "data": {
      "text/plain": [
       "True"
      ]
     },
     "execution_count": 21,
     "metadata": {},
     "output_type": "execute_result"
    }
   ],
   "source": [
    "m = cv2.getPerspectiveTransform(np.float32(pts_src), np.float32(pts_dst))\n",
    "out = cv2.warpPerspective(bigger_img, m, (new_width, new_height))\n",
    "cv2.imwrite(\"deskew.jpg\", out)"
   ]
  },
  {
   "cell_type": "code",
   "execution_count": 22,
   "metadata": {},
   "outputs": [
    {
     "data": {
      "text/plain": [
       "True"
      ]
     },
     "execution_count": 22,
     "metadata": {},
     "output_type": "execute_result"
    }
   ],
   "source": [
    "b,g,r = cv2.split(out)\n",
    "rgb_split = np.empty([new_height, new_width * 3, 3], dtype=np.uint8)\n",
    "rgb_split[:,0:new_width] = cv2.merge([b,b,b])\n",
    "rgb_split[:,new_width:new_width*2] = cv2.merge([g,g,g])\n",
    "rgb_split[:,new_width*2:new_width*3] = cv2.merge([r,r,r])\n",
    "cv2.imwrite(\"deskewed_channels.jpg\",rgb_split)"
   ]
  },
  {
   "cell_type": "code",
   "execution_count": null,
   "metadata": {},
   "outputs": [],
   "source": []
  }
 ],
 "metadata": {
  "interpreter": {
   "hash": "aee8b7b246df8f9039afb4144a1f6fd8d2ca17a180786b69acc140d282b71a49"
  },
  "kernelspec": {
   "display_name": "Python 3.9.8 64-bit",
   "language": "python",
   "name": "python3"
  },
  "language_info": {
   "codemirror_mode": {
    "name": "ipython",
    "version": 3
   },
   "file_extension": ".py",
   "mimetype": "text/x-python",
   "name": "python",
   "nbconvert_exporter": "python",
   "pygments_lexer": "ipython3",
   "version": "3.9.8"
  },
  "orig_nbformat": 4
 },
 "nbformat": 4,
 "nbformat_minor": 2
}
